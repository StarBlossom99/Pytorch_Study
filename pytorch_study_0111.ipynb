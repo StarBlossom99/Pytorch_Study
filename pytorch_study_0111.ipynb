{
  "nbformat": 4,
  "nbformat_minor": 0,
  "metadata": {
    "colab": {
      "name": "pytorch_study_0111.ipynb",
      "provenance": [],
      "collapsed_sections": []
    },
    "kernelspec": {
      "name": "python3",
      "display_name": "Python 3"
    },
    "language_info": {
      "name": "python"
    },
    "accelerator": "GPU"
  },
  "cells": [
    {
      "cell_type": "code",
      "execution_count": null,
      "metadata": {
        "id": "4F4vvixhUCRw"
      },
      "outputs": [],
      "source": [
        "import torch\n",
        "from torch import nn\n",
        "from torch.utils.data import DataLoader\n",
        "from torchvision import datasets\n",
        "from torchvision.transforms import ToTensor, Lambda, Compose\n",
        "import matplotlib.pyplot as plt"
      ]
    },
    {
      "cell_type": "code",
      "source": [
        "training_data = datasets.FashionMNIST(\n",
        "    root=\"data\",\n",
        "    train=True,\n",
        "    download=True,\n",
        "    transform=ToTensor(),\n",
        ")"
      ],
      "metadata": {
        "id": "6dml8vXPwgWD"
      },
      "execution_count": null,
      "outputs": []
    },
    {
      "cell_type": "code",
      "source": [
        "test_data = datasets.FashionMNIST(\n",
        "    root=\"data\",\n",
        "    train=False,\n",
        "    download=True,\n",
        "    transform=ToTensor(),\n",
        ")"
      ],
      "metadata": {
        "id": "KAHGsT2jySHS"
      },
      "execution_count": null,
      "outputs": []
    },
    {
      "cell_type": "code",
      "source": [
        "batch_size = 64\n",
        "\n",
        "train_dataloader = DataLoader(training_data, batch_size=batch_size)\n",
        "test_dataloader = DataLoader(test_data, batch_size=batch_size)\n",
        "\n",
        "for X, y in test_dataloader:\n",
        "  print(\"Shape of X [N, C, H, W]: \", X.shape, X.dtype)\n",
        "  print(\"Shape of y: \", y.shape, y.dtype)\n",
        "  break"
      ],
      "metadata": {
        "colab": {
          "base_uri": "https://localhost:8080/"
        },
        "id": "1ibgyYbyyjCp",
        "outputId": "beef8873-018e-4366-d05b-a116f9af93aa"
      },
      "execution_count": null,
      "outputs": [
        {
          "output_type": "stream",
          "name": "stdout",
          "text": [
            "Shape of X [N, C, H, W]:  torch.Size([64, 1, 28, 28]) torch.float32\n",
            "Shape of y:  torch.Size([64]) torch.int64\n"
          ]
        }
      ]
    },
    {
      "cell_type": "markdown",
      "source": [
        "X의 size가 4차원의 형태? X는 4 차원 tensor?\n",
        "\n",
        "X는 test_data, y는 batch_size?\n"
      ],
      "metadata": {
        "id": "st-S5UDE0ML8"
      }
    },
    {
      "cell_type": "code",
      "source": [
        "device = \"cuda\" if torch.cuda.is_available() else \"cpu\"\n",
        "print(f\"Using {device} device\")\n",
        "\n",
        "class NeuralNetwork(nn.Module):\n",
        "  def __init__(self):\n",
        "    super(NeuralNetwork, self).__init__()\n",
        "    self.flatten = nn.Flatten()\n",
        "    self.linear_relu_stack = nn.Sequential(\n",
        "        nn.Linear(28*28, 512),\n",
        "        nn.ReLU(),\n",
        "        nn.Linear(512, 512),\n",
        "        nn.ReLU(),\n",
        "        nn.Linear(512, 10)\n",
        "    )\n",
        "  def forward(self, x):\n",
        "    x = self.flatten(x)\n",
        "    logits = self.linear_relu_stack(x)\n",
        "    return logits\n",
        "\n",
        "model = NeuralNetwork().to(device)\n",
        "print(model )"
      ],
      "metadata": {
        "colab": {
          "base_uri": "https://localhost:8080/"
        },
        "id": "sqYZh-Fs0hEW",
        "outputId": "19747b5a-3a51-43cc-85e8-240f848b6298"
      },
      "execution_count": null,
      "outputs": [
        {
          "output_type": "stream",
          "name": "stdout",
          "text": [
            "Using cuda device\n",
            "NeuralNetwork(\n",
            "  (flatten): Flatten(start_dim=1, end_dim=-1)\n",
            "  (linear_relu_stack): Sequential(\n",
            "    (0): Linear(in_features=784, out_features=512, bias=True)\n",
            "    (1): ReLU()\n",
            "    (2): Linear(in_features=512, out_features=512, bias=True)\n",
            "    (3): ReLU()\n",
            "    (4): Linear(in_features=512, out_features=10, bias=True)\n",
            "  )\n",
            ")\n"
          ]
        }
      ]
    },
    {
      "cell_type": "markdown",
      "source": [
        "nn.Flatten()이 정확히 뭔지?\n",
        "\n",
        "nn.Linear()의 parameter로 들어가는 size와 input data size의 연관성?\n",
        "\n",
        "linear_relu_stack이 뭔지?"
      ],
      "metadata": {
        "id": "vuT6NpkI3A7M"
      }
    },
    {
      "cell_type": "code",
      "source": [
        "loss_fn = nn.CrossEntropyLoss()\n",
        "optimizer = torch.optim.SGD(model.parameters(), lr=1e-3)"
      ],
      "metadata": {
        "id": "S2sFOLQK3auN"
      },
      "execution_count": null,
      "outputs": []
    },
    {
      "cell_type": "code",
      "source": [
        "def train(dataloader, model, loss_fn, optimizer):\n",
        "  size = len(dataloader.dataset)\n",
        "  for batch, (X, y) in enumerate(dataloader):\n",
        "    X, y = X.to(device), y.to(device)\n",
        "\n",
        "    pred = model(X)\n",
        "    loss = loss_fn(pred, y)\n",
        "\n",
        "    optimizer.zero_grad()\n",
        "    loss.backward()\n",
        "    optimizer.step()\n",
        "\n",
        "    if batch % 100 == 0:\n",
        "      loss, current = loss.item(), batch * len(X)\n",
        "      print(f\"loss: {loss:>7f} [{current:>5d}/{size:>5d}]\")"
      ],
      "metadata": {
        "id": "h0NHARAp3t-3"
      },
      "execution_count": null,
      "outputs": []
    },
    {
      "cell_type": "code",
      "source": [
        "def test(dataloader, model, loss_fn):\n",
        "    size = len(dataloader.dataset)\n",
        "    num_batches = len(dataloader)\n",
        "    model.eval()\n",
        "    test_loss, correct = 0, 0\n",
        "    with torch.no_grad():\n",
        "        for X, y in dataloader:\n",
        "            X, y = X.to(device), y.to(device)\n",
        "            pred = model(X)\n",
        "            test_loss += loss_fn(pred, y).item()\n",
        "            correct += (pred.argmax(1) == y).type(torch.float).sum().item()\n",
        "    test_loss /= num_batches\n",
        "    correct /= size\n",
        "    print(f\"Test Error: \\n Accuracy: {(100*correct):>0.1f}%, Avg loss: {test_loss:>8f} \\n\")"
      ],
      "metadata": {
        "id": "uCfAp0B15ERK"
      },
      "execution_count": null,
      "outputs": []
    },
    {
      "cell_type": "code",
      "source": [
        "epochs = 5\n",
        "for t in range(epochs):\n",
        "    print(f\"Epoch {t+1}\\n-------------------------------\")\n",
        "    train(train_dataloader, model, loss_fn, optimizer)\n",
        "    test(test_dataloader, model, loss_fn)\n",
        "print(\"Done!\")"
      ],
      "metadata": {
        "colab": {
          "base_uri": "https://localhost:8080/"
        },
        "id": "uccyjk5j5Jrg",
        "outputId": "a67a3bb8-1772-409c-9d5f-cd90455eea85"
      },
      "execution_count": null,
      "outputs": [
        {
          "output_type": "stream",
          "name": "stdout",
          "text": [
            "Epoch 1\n",
            "-------------------------------\n",
            "loss: 2.299546 [    0/60000]\n",
            "loss: 2.288139 [ 6400/60000]\n",
            "loss: 2.265647 [12800/60000]\n",
            "loss: 2.266076 [19200/60000]\n",
            "loss: 2.229919 [25600/60000]\n",
            "loss: 2.208761 [32000/60000]\n",
            "loss: 2.217317 [38400/60000]\n",
            "loss: 2.183454 [44800/60000]\n",
            "loss: 2.189017 [51200/60000]\n",
            "loss: 2.152237 [57600/60000]\n",
            "Test Error: \n",
            " Accuracy: 54.0%, Avg loss: 2.146445 \n",
            "\n",
            "Epoch 2\n",
            "-------------------------------\n",
            "loss: 2.157382 [    0/60000]\n",
            "loss: 2.149627 [ 6400/60000]\n",
            "loss: 2.083229 [12800/60000]\n",
            "loss: 2.110423 [19200/60000]\n",
            "loss: 2.034775 [25600/60000]\n",
            "loss: 1.983072 [32000/60000]\n",
            "loss: 2.015176 [38400/60000]\n",
            "loss: 1.934498 [44800/60000]\n",
            "loss: 1.946608 [51200/60000]\n",
            "loss: 1.864986 [57600/60000]\n",
            "Test Error: \n",
            " Accuracy: 60.6%, Avg loss: 1.865173 \n",
            "\n",
            "Epoch 3\n",
            "-------------------------------\n",
            "loss: 1.896906 [    0/60000]\n",
            "loss: 1.870416 [ 6400/60000]\n",
            "loss: 1.737070 [12800/60000]\n",
            "loss: 1.793128 [19200/60000]\n",
            "loss: 1.664787 [25600/60000]\n",
            "loss: 1.617582 [32000/60000]\n",
            "loss: 1.649136 [38400/60000]\n",
            "loss: 1.549851 [44800/60000]\n",
            "loss: 1.576027 [51200/60000]\n",
            "loss: 1.467194 [57600/60000]\n",
            "Test Error: \n",
            " Accuracy: 62.5%, Avg loss: 1.490306 \n",
            "\n",
            "Epoch 4\n",
            "-------------------------------\n",
            "loss: 1.554201 [    0/60000]\n",
            "loss: 1.526479 [ 6400/60000]\n",
            "loss: 1.364098 [12800/60000]\n",
            "loss: 1.450064 [19200/60000]\n",
            "loss: 1.320508 [25600/60000]\n",
            "loss: 1.315430 [32000/60000]\n",
            "loss: 1.342871 [38400/60000]\n",
            "loss: 1.265752 [44800/60000]\n",
            "loss: 1.303460 [51200/60000]\n",
            "loss: 1.203479 [57600/60000]\n",
            "Test Error: \n",
            " Accuracy: 63.2%, Avg loss: 1.233464 \n",
            "\n",
            "Epoch 5\n",
            "-------------------------------\n",
            "loss: 1.310156 [    0/60000]\n",
            "loss: 1.298628 [ 6400/60000]\n",
            "loss: 1.122815 [12800/60000]\n",
            "loss: 1.240219 [19200/60000]\n",
            "loss: 1.105631 [25600/60000]\n",
            "loss: 1.127950 [32000/60000]\n",
            "loss: 1.166107 [38400/60000]\n",
            "loss: 1.096482 [44800/60000]\n",
            "loss: 1.139251 [51200/60000]\n",
            "loss: 1.056564 [57600/60000]\n",
            "Test Error: \n",
            " Accuracy: 64.4%, Avg loss: 1.080220 \n",
            "\n",
            "Done!\n"
          ]
        }
      ]
    },
    {
      "cell_type": "code",
      "source": [
        "torch.save(model.state_dict(), \"model.pth\")\n",
        "print(\"Saved PyTorch Model State to model.pth\")"
      ],
      "metadata": {
        "colab": {
          "base_uri": "https://localhost:8080/"
        },
        "id": "_xt1a86i5m03",
        "outputId": "9037aa2b-6122-4961-cf5c-532baae2115a"
      },
      "execution_count": null,
      "outputs": [
        {
          "output_type": "stream",
          "name": "stdout",
          "text": [
            "Saved PyTorch Model State to model.pth\n"
          ]
        }
      ]
    },
    {
      "cell_type": "code",
      "source": [
        "model = NeuralNetwork()\n",
        "model.load_state_dict(torch.load(\"model.pth\"))"
      ],
      "metadata": {
        "colab": {
          "base_uri": "https://localhost:8080/"
        },
        "id": "_kpNrvCz58k9",
        "outputId": "12d1c7ae-45fc-4b30-aa94-101e9ea29f15"
      },
      "execution_count": null,
      "outputs": [
        {
          "output_type": "execute_result",
          "data": {
            "text/plain": [
              "<All keys matched successfully>"
            ]
          },
          "metadata": {},
          "execution_count": 31
        }
      ]
    },
    {
      "cell_type": "code",
      "source": [
        "classes = [\n",
        "    \"T-shirt/top\",\n",
        "    \"Trouser\",\n",
        "    \"Pullover\",\n",
        "    \"Dress\",\n",
        "    \"Coat\",\n",
        "    \"Sandal\",\n",
        "    \"Shirt\",\n",
        "    \"Sneaker\",\n",
        "    \"Bag\",\n",
        "    \"Ankle boot\",\n",
        "]\n",
        "\n",
        "model.eval()\n",
        "x, y = test_data[0][0], test_data[0][1]\n",
        "with torch.no_grad():\n",
        "    pred = model(x)\n",
        "    predicted, actual = classes[pred[0].argmax(0)], classes[y]\n",
        "    print(f'Predicted: \"{predicted}\", Actual: \"{actual}\"')"
      ],
      "metadata": {
        "colab": {
          "base_uri": "https://localhost:8080/"
        },
        "id": "EAFz_7Jc6A82",
        "outputId": "0f784559-83df-4b76-f6fa-18b59f8234f6"
      },
      "execution_count": null,
      "outputs": [
        {
          "output_type": "stream",
          "name": "stdout",
          "text": [
            "Predicted: \"Ankle boot\", Actual: \"Ankle boot\"\n"
          ]
        }
      ]
    }
  ]
}