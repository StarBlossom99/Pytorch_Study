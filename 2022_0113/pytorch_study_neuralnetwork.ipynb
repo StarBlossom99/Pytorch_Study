{
  "nbformat": 4,
  "nbformat_minor": 0,
  "metadata": {
    "colab": {
      "name": "pytorch_study_neuralnetwork.ipynb",
      "provenance": [],
      "authorship_tag": "ABX9TyP9+dzAKm13Ka53dj0o7FCP",
      "include_colab_link": true
    },
    "kernelspec": {
      "name": "python3",
      "display_name": "Python 3"
    },
    "language_info": {
      "name": "python"
    },
    "accelerator": "GPU"
  },
  "cells": [
    {
      "cell_type": "markdown",
      "metadata": {
        "id": "view-in-github",
        "colab_type": "text"
      },
      "source": [
        "<a href=\"https://colab.research.google.com/github/StarBlossom99/Pytorch_Study/blob/main/2022_0113/pytorch_study_neuralnetwork.ipynb\" target=\"_parent\"><img src=\"https://colab.research.google.com/assets/colab-badge.svg\" alt=\"Open In Colab\"/></a>"
      ]
    },
    {
      "cell_type": "code",
      "execution_count": 7,
      "metadata": {
        "id": "SxxXgXHrhe1U"
      },
      "outputs": [],
      "source": [
        "import os\n",
        "import torch\n",
        "from torch import nn\n",
        "from torch.utils.data import DataLoader\n",
        "from torchvision import datasets, transforms"
      ]
    },
    {
      "cell_type": "code",
      "source": [
        "device = 'cuda' if torch.cuda.is_available() else 'cpu'\n",
        "print(f'Using {device} device')"
      ],
      "metadata": {
        "colab": {
          "base_uri": "https://localhost:8080/"
        },
        "id": "qryh6ud_iwVn",
        "outputId": "e0e68d43-91ea-4d45-d24c-bbf64f63102f"
      },
      "execution_count": 8,
      "outputs": [
        {
          "output_type": "stream",
          "name": "stdout",
          "text": [
            "Using cuda device\n"
          ]
        }
      ]
    },
    {
      "cell_type": "code",
      "source": [
        "class NeuralNetwork(nn.Module):\n",
        "    def __init__(self):\n",
        "        super(NeuralNetwork, self).__init__()\n",
        "        self.flatten = nn.Flatten()\n",
        "        self.linear_relu_stack = nn.Sequential(\n",
        "            nn.Linear(28*28, 512),\n",
        "            nn.ReLU(),\n",
        "            nn.Linear(512, 512),\n",
        "            nn.ReLU(),\n",
        "            nn.Linear(512, 10),\n",
        "        )\n",
        "\n",
        "    def forward(self, x):\n",
        "        x = self.flatten(x)\n",
        "        logits = self.linear_relu_stack(x)\n",
        "        return logits"
      ],
      "metadata": {
        "id": "T7vPqCX3iz1v"
      },
      "execution_count": 9,
      "outputs": []
    },
    {
      "cell_type": "markdown",
      "source": [
        "flatten()은 다차원 배열을 1차원 배열로 변환"
      ],
      "metadata": {
        "id": "ztyPfY9vsznK"
      }
    },
    {
      "cell_type": "code",
      "source": [
        "model = NeuralNetwork().to(device)\n",
        "print(model)"
      ],
      "metadata": {
        "colab": {
          "base_uri": "https://localhost:8080/"
        },
        "id": "kLiMCVUHi6oO",
        "outputId": "562c4939-341a-4ec7-bef8-26a54ae6a5a3"
      },
      "execution_count": 10,
      "outputs": [
        {
          "output_type": "stream",
          "name": "stdout",
          "text": [
            "NeuralNetwork(\n",
            "  (flatten): Flatten(start_dim=1, end_dim=-1)\n",
            "  (linear_relu_stack): Sequential(\n",
            "    (0): Linear(in_features=784, out_features=512, bias=True)\n",
            "    (1): ReLU()\n",
            "    (2): Linear(in_features=512, out_features=512, bias=True)\n",
            "    (3): ReLU()\n",
            "    (4): Linear(in_features=512, out_features=10, bias=True)\n",
            "  )\n",
            ")\n"
          ]
        }
      ]
    },
    {
      "cell_type": "code",
      "source": [
        "X = torch.rand(1, 28, 28, device=device)\n",
        "logits = model(X)\n",
        "pred_probab = nn.Softmax(dim=1)(logits)\n",
        "y_pred = pred_probab.argmax(1)\n",
        "print(f\"Predicted class: {y_pred}\")"
      ],
      "metadata": {
        "colab": {
          "base_uri": "https://localhost:8080/"
        },
        "id": "F3M3AEeijO2M",
        "outputId": "49310c45-0408-4e35-ef2d-ba8f0edbb9a6"
      },
      "execution_count": 23,
      "outputs": [
        {
          "output_type": "stream",
          "name": "stdout",
          "text": [
            "Predicted class: tensor([4], device='cuda:0')\n"
          ]
        }
      ]
    },
    {
      "cell_type": "markdown",
      "source": [
        "random 하게 1* 28 * 28 의 값을 생성하고, device에 올린다음 model 함수를 통해 logits값을 구한다. 그 값을 softmax에 넣어서 어떤 class에 가장 가까운지 찾는다."
      ],
      "metadata": {
        "id": "KG8JzRStuBxC"
      }
    },
    {
      "cell_type": "code",
      "source": [
        "input_image = torch.rand(3, 28, 28)\n",
        "print(input_image.size())"
      ],
      "metadata": {
        "colab": {
          "base_uri": "https://localhost:8080/"
        },
        "id": "7JhbmMa9jwJN",
        "outputId": "bef742d0-6155-40ea-a914-4b5da1c0772d"
      },
      "execution_count": 12,
      "outputs": [
        {
          "output_type": "stream",
          "name": "stdout",
          "text": [
            "torch.Size([3, 28, 28])\n"
          ]
        }
      ]
    },
    {
      "cell_type": "code",
      "source": [
        "flatten = nn.Flatten()\n",
        "flat_image = flatten(input_image)\n",
        "print(flat_image.size())"
      ],
      "metadata": {
        "colab": {
          "base_uri": "https://localhost:8080/"
        },
        "id": "E6-CCHofj3Ie",
        "outputId": "506f4221-7432-4534-ee36-8867814c1ca0"
      },
      "execution_count": 13,
      "outputs": [
        {
          "output_type": "stream",
          "name": "stdout",
          "text": [
            "torch.Size([3, 784])\n"
          ]
        }
      ]
    },
    {
      "cell_type": "code",
      "source": [
        "layer1 = nn.Linear(in_features=28*28, out_features=20)\n",
        "hidden1 = layer1(flat_image)\n",
        "print(hidden1.size())"
      ],
      "metadata": {
        "colab": {
          "base_uri": "https://localhost:8080/"
        },
        "id": "fKkvqgrMj_U7",
        "outputId": "f14ddd9d-ec9d-46c7-bd1c-b7cbde769265"
      },
      "execution_count": 14,
      "outputs": [
        {
          "output_type": "stream",
          "name": "stdout",
          "text": [
            "torch.Size([3, 20])\n"
          ]
        }
      ]
    },
    {
      "cell_type": "markdown",
      "source": [
        "layer를 통과한 뒤에 784에서 20으로 줄어든 모습"
      ],
      "metadata": {
        "id": "xZfWhSRJuoq-"
      }
    },
    {
      "cell_type": "code",
      "source": [
        "print(f\"Before ReLU: {hidden1}\\n\\n\")\n",
        "hidden1 = nn.ReLU()(hidden1)\n",
        "print(f\"After ReLU: {hidden1}\")"
      ],
      "metadata": {
        "colab": {
          "base_uri": "https://localhost:8080/"
        },
        "id": "rTuHgwsTkh5G",
        "outputId": "006369e9-a642-4db8-e6d9-a490cdfdb764"
      },
      "execution_count": 15,
      "outputs": [
        {
          "output_type": "stream",
          "name": "stdout",
          "text": [
            "Before ReLU: tensor([[-0.0760, -0.2309,  0.1111,  0.3498, -0.4519, -0.2371, -0.2027,  0.1807,\n",
            "         -0.4076,  0.1489,  0.1223,  0.1759, -0.0500, -0.2466,  0.0857, -0.2605,\n",
            "          0.2504, -0.3415, -0.8098,  0.0458],\n",
            "        [ 0.2214, -0.3312,  0.1217,  0.0117, -0.3884,  0.3854, -0.6269, -0.2166,\n",
            "         -0.3893,  0.2119,  0.5174,  0.5277, -0.1911, -0.1036,  0.3012, -0.0190,\n",
            "          0.2722, -0.3918, -0.4915,  0.1136],\n",
            "        [ 0.2902, -0.2185,  0.5792,  0.1920, -0.3852,  0.0621, -0.3546, -0.1854,\n",
            "         -0.0582,  0.0390,  0.5793,  0.6793, -0.0739, -0.3054,  0.1945,  0.0579,\n",
            "          0.2594,  0.0999, -0.6539,  0.1643]], grad_fn=<AddmmBackward0>)\n",
            "\n",
            "\n",
            "After ReLU: tensor([[0.0000, 0.0000, 0.1111, 0.3498, 0.0000, 0.0000, 0.0000, 0.1807, 0.0000,\n",
            "         0.1489, 0.1223, 0.1759, 0.0000, 0.0000, 0.0857, 0.0000, 0.2504, 0.0000,\n",
            "         0.0000, 0.0458],\n",
            "        [0.2214, 0.0000, 0.1217, 0.0117, 0.0000, 0.3854, 0.0000, 0.0000, 0.0000,\n",
            "         0.2119, 0.5174, 0.5277, 0.0000, 0.0000, 0.3012, 0.0000, 0.2722, 0.0000,\n",
            "         0.0000, 0.1136],\n",
            "        [0.2902, 0.0000, 0.5792, 0.1920, 0.0000, 0.0621, 0.0000, 0.0000, 0.0000,\n",
            "         0.0390, 0.5793, 0.6793, 0.0000, 0.0000, 0.1945, 0.0579, 0.2594, 0.0999,\n",
            "         0.0000, 0.1643]], grad_fn=<ReluBackward0>)\n"
          ]
        }
      ]
    },
    {
      "cell_type": "markdown",
      "source": [
        "ReLU 함수 결과"
      ],
      "metadata": {
        "id": "sp1-A278uusL"
      }
    },
    {
      "cell_type": "code",
      "source": [
        "seq_modules = nn.Sequential(\n",
        "    flatten,\n",
        "    layer1,\n",
        "    nn.ReLU(),\n",
        "    nn.Linear(20, 10)\n",
        ")\n",
        "input_image = torch.rand(3,28,28)\n",
        "logits = seq_modules(input_image)"
      ],
      "metadata": {
        "id": "_uJQSrQqlmIJ"
      },
      "execution_count": 19,
      "outputs": []
    },
    {
      "cell_type": "code",
      "source": [
        "softmax = nn.Softmax(dim=1)\n",
        "pred_probab = softmax(logits)"
      ],
      "metadata": {
        "id": "zrhjL2yqmALe"
      },
      "execution_count": 20,
      "outputs": []
    },
    {
      "cell_type": "code",
      "source": [
        "print(\"Model structure: \", model, \"\\n\\n\")\n",
        "\n",
        "for name, param in model.named_parameters():\n",
        "    print(f\"Layer: {name} | Size: {param.size()} | Values : {param[:2]} \\n\")"
      ],
      "metadata": {
        "colab": {
          "base_uri": "https://localhost:8080/"
        },
        "id": "FqH8c8tqmJlk",
        "outputId": "5e92b764-9ae7-4b06-ebe9-837d10902150"
      },
      "execution_count": 21,
      "outputs": [
        {
          "output_type": "stream",
          "name": "stdout",
          "text": [
            "Model structure:  NeuralNetwork(\n",
            "  (flatten): Flatten(start_dim=1, end_dim=-1)\n",
            "  (linear_relu_stack): Sequential(\n",
            "    (0): Linear(in_features=784, out_features=512, bias=True)\n",
            "    (1): ReLU()\n",
            "    (2): Linear(in_features=512, out_features=512, bias=True)\n",
            "    (3): ReLU()\n",
            "    (4): Linear(in_features=512, out_features=10, bias=True)\n",
            "  )\n",
            ") \n",
            "\n",
            "\n",
            "Layer: linear_relu_stack.0.weight | Size: torch.Size([512, 784]) | Values : tensor([[-0.0153,  0.0141,  0.0038,  ...,  0.0287,  0.0232, -0.0219],\n",
            "        [ 0.0252,  0.0100,  0.0053,  ...,  0.0216,  0.0222,  0.0238]],\n",
            "       device='cuda:0', grad_fn=<SliceBackward0>) \n",
            "\n",
            "Layer: linear_relu_stack.0.bias | Size: torch.Size([512]) | Values : tensor([ 0.0324, -0.0350], device='cuda:0', grad_fn=<SliceBackward0>) \n",
            "\n",
            "Layer: linear_relu_stack.2.weight | Size: torch.Size([512, 512]) | Values : tensor([[ 0.0406,  0.0137,  0.0343,  ...,  0.0248, -0.0156,  0.0244],\n",
            "        [ 0.0053,  0.0215,  0.0182,  ...,  0.0351, -0.0074, -0.0413]],\n",
            "       device='cuda:0', grad_fn=<SliceBackward0>) \n",
            "\n",
            "Layer: linear_relu_stack.2.bias | Size: torch.Size([512]) | Values : tensor([ 0.0405, -0.0369], device='cuda:0', grad_fn=<SliceBackward0>) \n",
            "\n",
            "Layer: linear_relu_stack.4.weight | Size: torch.Size([10, 512]) | Values : tensor([[-0.0297, -0.0379, -0.0254,  ..., -0.0176,  0.0004,  0.0356],\n",
            "        [ 0.0388,  0.0286,  0.0386,  ...,  0.0122,  0.0413,  0.0012]],\n",
            "       device='cuda:0', grad_fn=<SliceBackward0>) \n",
            "\n",
            "Layer: linear_relu_stack.4.bias | Size: torch.Size([10]) | Values : tensor([ 0.0028, -0.0419], device='cuda:0', grad_fn=<SliceBackward0>) \n",
            "\n"
          ]
        }
      ]
    }
  ]
}