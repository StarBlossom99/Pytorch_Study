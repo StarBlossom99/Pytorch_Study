{
  "nbformat": 4,
  "nbformat_minor": 0,
  "metadata": {
    "colab": {
      "name": "pytorch_study_transfer_learning.ipynb",
      "provenance": [],
      "collapsed_sections": [],
      "authorship_tag": "ABX9TyNZbcTp2j55JavnLHTZg3tH",
      "include_colab_link": true
    },
    "kernelspec": {
      "name": "python3",
      "display_name": "Python 3"
    },
    "language_info": {
      "name": "python"
    },
    "accelerator": "GPU",
    "widgets": {
      "application/vnd.jupyter.widget-state+json": {
        "837adafc91e24e28bf02fae3f5a7a722": {
          "model_module": "@jupyter-widgets/controls",
          "model_name": "HBoxModel",
          "model_module_version": "1.5.0",
          "state": {
            "_view_name": "HBoxView",
            "_dom_classes": [],
            "_model_name": "HBoxModel",
            "_view_module": "@jupyter-widgets/controls",
            "_model_module_version": "1.5.0",
            "_view_count": null,
            "_view_module_version": "1.5.0",
            "box_style": "",
            "layout": "IPY_MODEL_fb32b7f1f07f4ed8a877352d46b66ab4",
            "_model_module": "@jupyter-widgets/controls",
            "children": [
              "IPY_MODEL_740b4151538342e9ba5c87f348729244",
              "IPY_MODEL_b791d06ada41405aaeec756a305667e4",
              "IPY_MODEL_aadc6add8c7c4d6daf8dc5c02e8180a0"
            ]
          }
        },
        "fb32b7f1f07f4ed8a877352d46b66ab4": {
          "model_module": "@jupyter-widgets/base",
          "model_name": "LayoutModel",
          "model_module_version": "1.2.0",
          "state": {
            "_view_name": "LayoutView",
            "grid_template_rows": null,
            "right": null,
            "justify_content": null,
            "_view_module": "@jupyter-widgets/base",
            "overflow": null,
            "_model_module_version": "1.2.0",
            "_view_count": null,
            "flex_flow": null,
            "width": null,
            "min_width": null,
            "border": null,
            "align_items": null,
            "bottom": null,
            "_model_module": "@jupyter-widgets/base",
            "top": null,
            "grid_column": null,
            "overflow_y": null,
            "overflow_x": null,
            "grid_auto_flow": null,
            "grid_area": null,
            "grid_template_columns": null,
            "flex": null,
            "_model_name": "LayoutModel",
            "justify_items": null,
            "grid_row": null,
            "max_height": null,
            "align_content": null,
            "visibility": null,
            "align_self": null,
            "height": null,
            "min_height": null,
            "padding": null,
            "grid_auto_rows": null,
            "grid_gap": null,
            "max_width": null,
            "order": null,
            "_view_module_version": "1.2.0",
            "grid_template_areas": null,
            "object_position": null,
            "object_fit": null,
            "grid_auto_columns": null,
            "margin": null,
            "display": null,
            "left": null
          }
        },
        "740b4151538342e9ba5c87f348729244": {
          "model_module": "@jupyter-widgets/controls",
          "model_name": "HTMLModel",
          "model_module_version": "1.5.0",
          "state": {
            "_view_name": "HTMLView",
            "style": "IPY_MODEL_cb1bbc696e884a0bbc8b3e9396e08e9b",
            "_dom_classes": [],
            "description": "",
            "_model_name": "HTMLModel",
            "placeholder": "​",
            "_view_module": "@jupyter-widgets/controls",
            "_model_module_version": "1.5.0",
            "value": "100%",
            "_view_count": null,
            "_view_module_version": "1.5.0",
            "description_tooltip": null,
            "_model_module": "@jupyter-widgets/controls",
            "layout": "IPY_MODEL_cb975fead1284533b3668a4c9865860d"
          }
        },
        "b791d06ada41405aaeec756a305667e4": {
          "model_module": "@jupyter-widgets/controls",
          "model_name": "FloatProgressModel",
          "model_module_version": "1.5.0",
          "state": {
            "_view_name": "ProgressView",
            "style": "IPY_MODEL_8ec1792c92344456a4b89c97b9108c40",
            "_dom_classes": [],
            "description": "",
            "_model_name": "FloatProgressModel",
            "bar_style": "success",
            "max": 46830571,
            "_view_module": "@jupyter-widgets/controls",
            "_model_module_version": "1.5.0",
            "value": 46830571,
            "_view_count": null,
            "_view_module_version": "1.5.0",
            "orientation": "horizontal",
            "min": 0,
            "description_tooltip": null,
            "_model_module": "@jupyter-widgets/controls",
            "layout": "IPY_MODEL_64c1818faeeb4738bd4dcee33de293c3"
          }
        },
        "aadc6add8c7c4d6daf8dc5c02e8180a0": {
          "model_module": "@jupyter-widgets/controls",
          "model_name": "HTMLModel",
          "model_module_version": "1.5.0",
          "state": {
            "_view_name": "HTMLView",
            "style": "IPY_MODEL_132b172e5db34507a2b1c4cd01b887f1",
            "_dom_classes": [],
            "description": "",
            "_model_name": "HTMLModel",
            "placeholder": "​",
            "_view_module": "@jupyter-widgets/controls",
            "_model_module_version": "1.5.0",
            "value": " 44.7M/44.7M [00:00&lt;00:00, 75.9MB/s]",
            "_view_count": null,
            "_view_module_version": "1.5.0",
            "description_tooltip": null,
            "_model_module": "@jupyter-widgets/controls",
            "layout": "IPY_MODEL_b978568a44fa46098f83fd64900781a7"
          }
        },
        "cb1bbc696e884a0bbc8b3e9396e08e9b": {
          "model_module": "@jupyter-widgets/controls",
          "model_name": "DescriptionStyleModel",
          "model_module_version": "1.5.0",
          "state": {
            "_view_name": "StyleView",
            "_model_name": "DescriptionStyleModel",
            "description_width": "",
            "_view_module": "@jupyter-widgets/base",
            "_model_module_version": "1.5.0",
            "_view_count": null,
            "_view_module_version": "1.2.0",
            "_model_module": "@jupyter-widgets/controls"
          }
        },
        "cb975fead1284533b3668a4c9865860d": {
          "model_module": "@jupyter-widgets/base",
          "model_name": "LayoutModel",
          "model_module_version": "1.2.0",
          "state": {
            "_view_name": "LayoutView",
            "grid_template_rows": null,
            "right": null,
            "justify_content": null,
            "_view_module": "@jupyter-widgets/base",
            "overflow": null,
            "_model_module_version": "1.2.0",
            "_view_count": null,
            "flex_flow": null,
            "width": null,
            "min_width": null,
            "border": null,
            "align_items": null,
            "bottom": null,
            "_model_module": "@jupyter-widgets/base",
            "top": null,
            "grid_column": null,
            "overflow_y": null,
            "overflow_x": null,
            "grid_auto_flow": null,
            "grid_area": null,
            "grid_template_columns": null,
            "flex": null,
            "_model_name": "LayoutModel",
            "justify_items": null,
            "grid_row": null,
            "max_height": null,
            "align_content": null,
            "visibility": null,
            "align_self": null,
            "height": null,
            "min_height": null,
            "padding": null,
            "grid_auto_rows": null,
            "grid_gap": null,
            "max_width": null,
            "order": null,
            "_view_module_version": "1.2.0",
            "grid_template_areas": null,
            "object_position": null,
            "object_fit": null,
            "grid_auto_columns": null,
            "margin": null,
            "display": null,
            "left": null
          }
        },
        "8ec1792c92344456a4b89c97b9108c40": {
          "model_module": "@jupyter-widgets/controls",
          "model_name": "ProgressStyleModel",
          "model_module_version": "1.5.0",
          "state": {
            "_view_name": "StyleView",
            "_model_name": "ProgressStyleModel",
            "description_width": "",
            "_view_module": "@jupyter-widgets/base",
            "_model_module_version": "1.5.0",
            "_view_count": null,
            "_view_module_version": "1.2.0",
            "bar_color": null,
            "_model_module": "@jupyter-widgets/controls"
          }
        },
        "64c1818faeeb4738bd4dcee33de293c3": {
          "model_module": "@jupyter-widgets/base",
          "model_name": "LayoutModel",
          "model_module_version": "1.2.0",
          "state": {
            "_view_name": "LayoutView",
            "grid_template_rows": null,
            "right": null,
            "justify_content": null,
            "_view_module": "@jupyter-widgets/base",
            "overflow": null,
            "_model_module_version": "1.2.0",
            "_view_count": null,
            "flex_flow": null,
            "width": null,
            "min_width": null,
            "border": null,
            "align_items": null,
            "bottom": null,
            "_model_module": "@jupyter-widgets/base",
            "top": null,
            "grid_column": null,
            "overflow_y": null,
            "overflow_x": null,
            "grid_auto_flow": null,
            "grid_area": null,
            "grid_template_columns": null,
            "flex": null,
            "_model_name": "LayoutModel",
            "justify_items": null,
            "grid_row": null,
            "max_height": null,
            "align_content": null,
            "visibility": null,
            "align_self": null,
            "height": null,
            "min_height": null,
            "padding": null,
            "grid_auto_rows": null,
            "grid_gap": null,
            "max_width": null,
            "order": null,
            "_view_module_version": "1.2.0",
            "grid_template_areas": null,
            "object_position": null,
            "object_fit": null,
            "grid_auto_columns": null,
            "margin": null,
            "display": null,
            "left": null
          }
        },
        "132b172e5db34507a2b1c4cd01b887f1": {
          "model_module": "@jupyter-widgets/controls",
          "model_name": "DescriptionStyleModel",
          "model_module_version": "1.5.0",
          "state": {
            "_view_name": "StyleView",
            "_model_name": "DescriptionStyleModel",
            "description_width": "",
            "_view_module": "@jupyter-widgets/base",
            "_model_module_version": "1.5.0",
            "_view_count": null,
            "_view_module_version": "1.2.0",
            "_model_module": "@jupyter-widgets/controls"
          }
        },
        "b978568a44fa46098f83fd64900781a7": {
          "model_module": "@jupyter-widgets/base",
          "model_name": "LayoutModel",
          "model_module_version": "1.2.0",
          "state": {
            "_view_name": "LayoutView",
            "grid_template_rows": null,
            "right": null,
            "justify_content": null,
            "_view_module": "@jupyter-widgets/base",
            "overflow": null,
            "_model_module_version": "1.2.0",
            "_view_count": null,
            "flex_flow": null,
            "width": null,
            "min_width": null,
            "border": null,
            "align_items": null,
            "bottom": null,
            "_model_module": "@jupyter-widgets/base",
            "top": null,
            "grid_column": null,
            "overflow_y": null,
            "overflow_x": null,
            "grid_auto_flow": null,
            "grid_area": null,
            "grid_template_columns": null,
            "flex": null,
            "_model_name": "LayoutModel",
            "justify_items": null,
            "grid_row": null,
            "max_height": null,
            "align_content": null,
            "visibility": null,
            "align_self": null,
            "height": null,
            "min_height": null,
            "padding": null,
            "grid_auto_rows": null,
            "grid_gap": null,
            "max_width": null,
            "order": null,
            "_view_module_version": "1.2.0",
            "grid_template_areas": null,
            "object_position": null,
            "object_fit": null,
            "grid_auto_columns": null,
            "margin": null,
            "display": null,
            "left": null
          }
        }
      }
    }
  },
  "cells": [
    {
      "cell_type": "markdown",
      "metadata": {
        "id": "view-in-github",
        "colab_type": "text"
      },
      "source": [
        "<a href=\"https://colab.research.google.com/github/StarBlossom99/Pytorch_Study/blob/main/2022_0208/pytorch_study_transfer_learning.ipynb\" target=\"_parent\"><img src=\"https://colab.research.google.com/assets/colab-badge.svg\" alt=\"Open In Colab\"/></a>"
      ]
    },
    {
      "cell_type": "code",
      "execution_count": null,
      "metadata": {
        "id": "QZtBKAqSaWCp"
      },
      "outputs": [],
      "source": [
        "%matplotlib inline"
      ]
    },
    {
      "cell_type": "markdown",
      "source": [
        "실제로 충분한 크기의 데이터셋을 갖추기가 힘들기 때문에 매우 큰 데이터셋에서 미리 합성곱 신경망으로 학습한 뒤에 이 합성곱 신경망을 작업을 위한 초기 설정 또는 fixed feature extractor로 사용"
      ],
      "metadata": {
        "id": "ARmXMSIqdshv"
      }
    },
    {
      "cell_type": "code",
      "source": [
        "# License: BSD\n",
        "# Author: Sasank Chilamkurthy\n",
        "\n",
        "from __future__ import print_function, division\n",
        "\n",
        "import torch\n",
        "import torch.nn as nn\n",
        "import torch.optim as optim\n",
        "from torch.optim import lr_scheduler\n",
        "import numpy as np\n",
        "import torchvision\n",
        "from torchvision import datasets, models, transforms\n",
        "import matplotlib.pyplot as plt\n",
        "import time\n",
        "import os\n",
        "import copy\n",
        "\n",
        "plt.ion()   # 대화형 모드"
      ],
      "metadata": {
        "id": "WHuTRbG3a5K5"
      },
      "execution_count": null,
      "outputs": []
    },
    {
      "cell_type": "code",
      "source": [
        "!unzip -qq \"/content/hymenoptera_data.zip\" -d \"/content/data\"\n",
        "\n"
      ],
      "metadata": {
        "id": "O0iSkexHcQgm"
      },
      "execution_count": null,
      "outputs": []
    },
    {
      "cell_type": "code",
      "source": [
        "data_transforms = {\n",
        "    'train' : transforms.Compose([\n",
        "        transforms.RandomResizedCrop(224),\n",
        "        transforms.RandomHorizontalFlip(),\n",
        "        transforms.ToTensor(),\n",
        "        transforms.Normalize([0.485, 0.456, 0.406], [0.229, 0.224, 0.225])\n",
        "    ]),\n",
        "\n",
        "    'val' : transforms.Compose([\n",
        "        transforms.Resize(256),\n",
        "        transforms.CenterCrop(224),\n",
        "        transforms.ToTensor(),\n",
        "        transforms.Normalize([0.485, 0.456, 0.406], [0.229, 0.224, 0.225])\n",
        "    ]),\n",
        "}\n",
        "\n",
        "data_dir = 'data/hymenoptera_data'\n",
        "image_datasets = {x: datasets.ImageFolder(os.path.join(data_dir, x), data_transforms[x]) for x in ['train', 'val']}\n",
        "\n",
        "dataloaders = {x: torch.utils.data.DataLoader(image_datasets[x], batch_size=4, shuffle=True, num_workers=4) for x in ['train', 'val']}\n",
        "\n",
        "dataset_sizes = {x: len(image_datasets[x]) for x in ['train','val']}\n",
        "class_names = image_datasets['train'].classes\n",
        "\n",
        "device = torch.device(\"cuda:0\" if torch.cuda.is_available() else \"cpu\")"
      ],
      "metadata": {
        "colab": {
          "base_uri": "https://localhost:8080/"
        },
        "id": "784aP1TKa7kZ",
        "outputId": "a998cb66-0b2a-4401-a503-d9fe4fc8e360"
      },
      "execution_count": null,
      "outputs": [
        {
          "output_type": "stream",
          "name": "stderr",
          "text": [
            "/usr/local/lib/python3.7/dist-packages/torch/utils/data/dataloader.py:481: UserWarning: This DataLoader will create 4 worker processes in total. Our suggested max number of worker in current system is 2, which is smaller than what this DataLoader is going to create. Please be aware that excessive worker creation might get DataLoader running slow or even freeze, lower the worker number to avoid potential slowness/freeze if necessary.\n",
            "  cpuset_checked))\n"
          ]
        }
      ]
    },
    {
      "cell_type": "markdown",
      "source": [
        "학습을 위해 데이터를 정규화한다.\n",
        "\n",
        "RandomResizedCrop()??\n",
        "\n",
        "RandomHorizontalFlip()??\n",
        "\n",
        "Resize()??\n",
        "\n",
        "CenterCrop()??\n",
        "\n",
        "data_dir 에 있는 데이터를 data transform을 적용시켜서 image_dataset으로 만들고 그것을 dataloader를 이용하여 가져오게 한다. \n",
        "\n",
        "GPU를 사용할 수 있으면 사용"
      ],
      "metadata": {
        "id": "kzlvSkiAt-g3"
      }
    },
    {
      "cell_type": "code",
      "source": [
        "def imshow(inp, title=None):\n",
        "    \"\"\"Imshow for Tensor.\"\"\"\n",
        "    inp = inp.numpy().transpose((1, 2, 0))\n",
        "    mean = np.array([0.485, 0.456, 0.406])\n",
        "    std = np.array([0.229, 0.224, 0.225])\n",
        "    inp = std * inp + mean\n",
        "    inp = np.clip(inp, 0, 1)\n",
        "    plt.imshow(inp)\n",
        "    if title is not None:\n",
        "        plt.title(title)\n",
        "    plt.pause(0.001)  # 갱신이 될 때까지 잠시 기다립니다.\n",
        "\n",
        "\n",
        "# 학습 데이터의 배치를 얻습니다.\n",
        "inputs, classes = next(iter(dataloaders['train']))\n",
        "\n",
        "# 배치로부터 격자 형태의 이미지를 만듭니다.\n",
        "out = torchvision.utils.make_grid(inputs)\n",
        "\n",
        "imshow(out, title=[class_names[x] for x in classes])"
      ],
      "metadata": {
        "colab": {
          "base_uri": "https://localhost:8080/",
          "height": 205
        },
        "id": "I25LugvdfM0T",
        "outputId": "f502e128-9f04-4fda-c948-c73657eaecdc"
      },
      "execution_count": null,
      "outputs": [
        {
          "output_type": "stream",
          "name": "stderr",
          "text": [
            "/usr/local/lib/python3.7/dist-packages/torch/utils/data/dataloader.py:481: UserWarning: This DataLoader will create 4 worker processes in total. Our suggested max number of worker in current system is 2, which is smaller than what this DataLoader is going to create. Please be aware that excessive worker creation might get DataLoader running slow or even freeze, lower the worker number to avoid potential slowness/freeze if necessary.\n",
            "  cpuset_checked))\n"
          ]
        },
        {
          "output_type": "display_data",
          "data": {
            "image/png": "[encoded data removed]",
            "text/plain": [
              "<Figure size 432x288 with 1 Axes>"
            ]
          },
          "metadata": {
            "needs_background": "light"
          }
        }
      ]
    },
    {
      "cell_type": "markdown",
      "source": [
        "numpy().transpose()??\n",
        "\n",
        "np.clip()??\n"
      ],
      "metadata": {
        "id": "N1dM-3pLxuG6"
      }
    },
    {
      "cell_type": "code",
      "source": [
        "def train_model(model, criterion, optimizer, scheduler, num_epochs=25):\n",
        "    since = time.time()\n",
        "\n",
        "    best_model_wts = copy.deepcopy(model.state_dict())\n",
        "    best_acc = 0.0\n",
        "\n",
        "    for epoch in range(num_epochs):\n",
        "        print('Epoch {}/{}'.format(epoch, num_epochs - 1))\n",
        "        print('-' * 10)\n",
        "\n",
        "        # 각 에폭(epoch)은 학습 단계와 검증 단계를 갖습니다.\n",
        "        for phase in ['train', 'val']:\n",
        "            if phase == 'train':\n",
        "                model.train()  # 모델을 학습 모드로 설정\n",
        "            else:\n",
        "                model.eval()   # 모델을 평가 모드로 설정\n",
        "\n",
        "            running_loss = 0.0\n",
        "            running_corrects = 0\n",
        "\n",
        "            # 데이터를 반복\n",
        "            for inputs, labels in dataloaders[phase]:\n",
        "                inputs = inputs.to(device)\n",
        "                labels = labels.to(device)\n",
        "\n",
        "                # 매개변수 경사도를 0으로 설정\n",
        "                optimizer.zero_grad()\n",
        "\n",
        "                # 순전파\n",
        "                # 학습 시에만 연산 기록을 추적\n",
        "                with torch.set_grad_enabled(phase == 'train'):\n",
        "                    outputs = model(inputs)\n",
        "                    _, preds = torch.max(outputs, 1)\n",
        "                    loss = criterion(outputs, labels)\n",
        "\n",
        "                    # 학습 단계인 경우 역전파 + 최적화\n",
        "                    if phase == 'train':\n",
        "                        loss.backward()\n",
        "                        optimizer.step()\n",
        "\n",
        "                # 통계\n",
        "                running_loss += loss.item() * inputs.size(0)\n",
        "                running_corrects += torch.sum(preds == labels.data)\n",
        "            if phase == 'train':\n",
        "                scheduler.step()\n",
        "\n",
        "            epoch_loss = running_loss / dataset_sizes[phase]\n",
        "            epoch_acc = running_corrects.double() / dataset_sizes[phase]\n",
        "\n",
        "            print('{} Loss: {:.4f} Acc: {:.4f}'.format(\n",
        "                phase, epoch_loss, epoch_acc))\n",
        "\n",
        "            # 모델을 깊은 복사(deep copy)함\n",
        "            if phase == 'val' and epoch_acc > best_acc:\n",
        "                best_acc = epoch_acc\n",
        "                best_model_wts = copy.deepcopy(model.state_dict())\n",
        "\n",
        "        print()\n",
        "\n",
        "    time_elapsed = time.time() - since\n",
        "    print('Training complete in {:.0f}m {:.0f}s'.format(\n",
        "        time_elapsed // 60, time_elapsed % 60))\n",
        "    print('Best val Acc: {:4f}'.format(best_acc))\n",
        "\n",
        "    # 가장 나은 모델 가중치를 불러옴\n",
        "    model.load_state_dict(best_model_wts)\n",
        "    return model"
      ],
      "metadata": {
        "id": "le73vUgqfVLH"
      },
      "execution_count": null,
      "outputs": []
    },
    {
      "cell_type": "markdown",
      "source": [
        "epoch 정확도가 best 정확도보다 나으면 best model을 deepcopy를 통해 바꾼다.\n",
        "\n",
        "가장 나은 모델의 가중치를 불러와서 리턴\n",
        "\n"
      ],
      "metadata": {
        "id": "Xg3auQW_yaKx"
      }
    },
    {
      "cell_type": "code",
      "source": [
        "def visualize_model(model, num_images=6):\n",
        "    was_training = model.training\n",
        "    model.eval()\n",
        "    images_so_far = 0\n",
        "    fig = plt.figure()\n",
        "\n",
        "    with torch.no_grad():\n",
        "        for i, (inputs, labels) in enumerate(dataloaders['val']):\n",
        "            inputs = inputs.to(device)\n",
        "            labels = labels.to(device)\n",
        "\n",
        "            outputs = model(inputs)\n",
        "            _, preds = torch.max(outputs, 1)\n",
        "\n",
        "            for j in range(inputs.size()[0]):\n",
        "                images_so_far += 1\n",
        "                ax = plt.subplot(num_images//2, 2, images_so_far)\n",
        "                ax.axis('off')\n",
        "                ax.set_title('predicted: {}'.format(class_names[preds[j]]))\n",
        "                imshow(inputs.cpu().data[j])\n",
        "\n",
        "                if images_so_far == num_images:\n",
        "                    model.train(mode=was_training)\n",
        "                    return\n",
        "        model.train(mode=was_training)"
      ],
      "metadata": {
        "id": "E1DYlH8ifWO9"
      },
      "execution_count": null,
      "outputs": []
    },
    {
      "cell_type": "markdown",
      "source": [
        "평가 시기이기 때문에 no grad 사용\n",
        "\n",
        "plt.subplot은 무엇일까 \n",
        "\n",
        "ax.axis()???\n"
      ],
      "metadata": {
        "id": "ElBB19fV2dZN"
      }
    },
    {
      "cell_type": "code",
      "source": [
        "model_ft = models.resnet18(pretrained=True)\n",
        "num_ftrs = model_ft.fc.in_features\n",
        "# 여기서 각 출력 샘플의 크기는 2로 설정합니다.\n",
        "# 또는, nn.Linear(num_ftrs, len (class_names))로 일반화할 수 있습니다.\n",
        "model_ft.fc = nn.Linear(num_ftrs, 2)\n",
        "\n",
        "model_ft = model_ft.to(device)\n",
        "\n",
        "criterion = nn.CrossEntropyLoss()\n",
        "\n",
        "# 모든 매개변수들이 최적화되었는지 관찰\n",
        "optimizer_ft = optim.SGD(model_ft.parameters(), lr=0.001, momentum=0.9)\n",
        "\n",
        "# 7 에폭마다 0.1씩 학습률 감소\n",
        "exp_lr_scheduler = lr_scheduler.StepLR(optimizer_ft, step_size=7, gamma=0.1)"
      ],
      "metadata": {
        "colab": {
          "base_uri": "https://localhost:8080/",
          "height": 67,
          "referenced_widgets": [
            "837adafc91e24e28bf02fae3f5a7a722",
            "fb32b7f1f07f4ed8a877352d46b66ab4",
            "740b4151538342e9ba5c87f348729244",
            "b791d06ada41405aaeec756a305667e4",
            "aadc6add8c7c4d6daf8dc5c02e8180a0",
            "cb1bbc696e884a0bbc8b3e9396e08e9b",
            "cb975fead1284533b3668a4c9865860d",
            "8ec1792c92344456a4b89c97b9108c40",
            "64c1818faeeb4738bd4dcee33de293c3",
            "132b172e5db34507a2b1c4cd01b887f1",
            "b978568a44fa46098f83fd64900781a7"
          ]
        },
        "id": "1WIp8_XgfzwI",
        "outputId": "8e516dc0-98a1-4dab-8079-6f875369e61f"
      },
      "execution_count": null,
      "outputs": [
        {
          "output_type": "stream",
          "name": "stderr",
          "text": [
            "Downloading: \"https://download.pytorch.org/models/resnet18-f37072fd.pth\" to /root/.cache/torch/hub/checkpoints/resnet18-f37072fd.pth\n"
          ]
        },
        {
          "output_type": "display_data",
          "data": {
            "application/vnd.jupyter.widget-view+json": {
              "model_id": "837adafc91e24e28bf02fae3f5a7a722",
              "version_minor": 0,
              "version_major": 2
            },
            "text/plain": [
              "  0%|          | 0.00/44.7M [00:00<?, ?B/s]"
            ]
          },
          "metadata": {}
        }
      ]
    },
    {
      "cell_type": "markdown",
      "source": [
        "model을 이미 있던 model(resnet18)을 가져오고, model의 마지막 fully connected layer의 성질만 nn.linear를 통해 지정해준다.\n",
        "\n",
        "model 을 gpu로 옮겨서 계산\n",
        "\n",
        "모든 매개변수는 변할수 있도록"
      ],
      "metadata": {
        "id": "o90ht1kW29My"
      }
    },
    {
      "cell_type": "code",
      "source": [
        "model_ft = train_model(model_ft,criterion, optimizer_ft, exp_lr_scheduler, num_epochs=25)"
      ],
      "metadata": {
        "colab": {
          "base_uri": "https://localhost:8080/"
        },
        "id": "R8KM5FnGf0jY",
        "outputId": "e8ed50a9-9a4e-4b09-d2bb-3ce43cb4f8b1"
      },
      "execution_count": null,
      "outputs": [
        {
          "output_type": "stream",
          "name": "stdout",
          "text": [
            "Epoch 0/24\n",
            "----------\n"
          ]
        },
        {
          "output_type": "stream",
          "name": "stderr",
          "text": [
            "/usr/local/lib/python3.7/dist-packages/torch/utils/data/dataloader.py:481: UserWarning: This DataLoader will create 4 worker processes in total. Our suggested max number of worker in current system is 2, which is smaller than what this DataLoader is going to create. Please be aware that excessive worker creation might get DataLoader running slow or even freeze, lower the worker number to avoid potential slowness/freeze if necessary.\n",
            "  cpuset_checked))\n"
          ]
        },
        {
          "output_type": "stream",
          "name": "stdout",
          "text": [
            "train Loss: 0.5941 Acc: 0.7090\n",
            "val Loss: 0.1772 Acc: 0.9412\n",
            "\n",
            "Epoch 1/24\n",
            "----------\n",
            "train Loss: 0.4657 Acc: 0.8074\n",
            "val Loss: 0.2702 Acc: 0.8954\n",
            "\n",
            "Epoch 2/24\n",
            "----------\n",
            "train Loss: 0.6069 Acc: 0.7623\n",
            "val Loss: 0.4290 Acc: 0.8824\n",
            "\n",
            "Epoch 3/24\n",
            "----------\n",
            "train Loss: 0.3605 Acc: 0.8566\n",
            "val Loss: 0.1874 Acc: 0.9346\n",
            "\n",
            "Epoch 4/24\n",
            "----------\n",
            "train Loss: 0.4103 Acc: 0.7951\n",
            "val Loss: 0.3323 Acc: 0.8758\n",
            "\n",
            "Epoch 5/24\n",
            "----------\n",
            "train Loss: 0.4825 Acc: 0.7992\n",
            "val Loss: 0.5080 Acc: 0.8170\n",
            "\n",
            "Epoch 6/24\n",
            "----------\n",
            "train Loss: 0.4202 Acc: 0.8115\n",
            "val Loss: 0.7671 Acc: 0.7582\n",
            "\n",
            "Epoch 7/24\n",
            "----------\n",
            "train Loss: 0.3601 Acc: 0.8566\n",
            "val Loss: 0.3366 Acc: 0.8889\n",
            "\n",
            "Epoch 8/24\n",
            "----------\n",
            "train Loss: 0.2784 Acc: 0.8730\n",
            "val Loss: 0.3061 Acc: 0.8954\n",
            "\n",
            "Epoch 9/24\n",
            "----------\n",
            "train Loss: 0.4011 Acc: 0.8279\n",
            "val Loss: 0.2805 Acc: 0.9150\n",
            "\n",
            "Epoch 10/24\n",
            "----------\n",
            "train Loss: 0.2894 Acc: 0.8852\n",
            "val Loss: 0.2841 Acc: 0.9085\n",
            "\n",
            "Epoch 11/24\n",
            "----------\n",
            "train Loss: 0.2446 Acc: 0.8730\n",
            "val Loss: 0.2724 Acc: 0.9020\n",
            "\n",
            "Epoch 12/24\n",
            "----------\n",
            "train Loss: 0.2914 Acc: 0.8689\n",
            "val Loss: 0.2642 Acc: 0.9020\n",
            "\n",
            "Epoch 13/24\n",
            "----------\n",
            "train Loss: 0.2845 Acc: 0.8811\n",
            "val Loss: 0.2753 Acc: 0.9020\n",
            "\n",
            "Epoch 14/24\n",
            "----------\n",
            "train Loss: 0.2399 Acc: 0.9098\n",
            "val Loss: 0.2473 Acc: 0.9216\n",
            "\n",
            "Epoch 15/24\n",
            "----------\n",
            "train Loss: 0.2824 Acc: 0.8811\n",
            "val Loss: 0.2643 Acc: 0.9020\n",
            "\n",
            "Epoch 16/24\n",
            "----------\n",
            "train Loss: 0.1835 Acc: 0.9180\n",
            "val Loss: 0.3245 Acc: 0.8758\n",
            "\n",
            "Epoch 17/24\n",
            "----------\n",
            "train Loss: 0.2226 Acc: 0.8975\n",
            "val Loss: 0.2457 Acc: 0.9085\n",
            "\n",
            "Epoch 18/24\n",
            "----------\n",
            "train Loss: 0.1951 Acc: 0.9344\n",
            "val Loss: 0.2917 Acc: 0.8954\n",
            "\n",
            "Epoch 19/24\n",
            "----------\n",
            "train Loss: 0.2324 Acc: 0.9180\n",
            "val Loss: 0.2463 Acc: 0.9150\n",
            "\n",
            "Epoch 20/24\n",
            "----------\n",
            "train Loss: 0.3259 Acc: 0.8607\n",
            "val Loss: 0.2476 Acc: 0.9281\n",
            "\n",
            "Epoch 21/24\n",
            "----------\n",
            "train Loss: 0.1791 Acc: 0.9262\n",
            "val Loss: 0.2642 Acc: 0.9085\n",
            "\n",
            "Epoch 22/24\n",
            "----------\n",
            "train Loss: 0.2461 Acc: 0.8975\n",
            "val Loss: 0.2550 Acc: 0.9020\n",
            "\n",
            "Epoch 23/24\n",
            "----------\n",
            "train Loss: 0.2984 Acc: 0.8607\n",
            "val Loss: 0.2599 Acc: 0.9085\n",
            "\n",
            "Epoch 24/24\n",
            "----------\n",
            "train Loss: 0.2775 Acc: 0.8975\n",
            "val Loss: 0.2490 Acc: 0.9150\n",
            "\n",
            "Training complete in 2m 31s\n",
            "Best val Acc: 0.941176\n"
          ]
        }
      ]
    },
    {
      "cell_type": "code",
      "source": [
        "visualize_model(model_ft)"
      ],
      "metadata": {
        "id": "GApYBSyOhY4H"
      },
      "execution_count": null,
      "outputs": []
    },
    {
      "cell_type": "code",
      "source": [
        "model_conv = torchvision.models.resnet18(pretrained=True)\n",
        "for param in model_conv.parameters():\n",
        "    param.requires_grad = False\n",
        "\n",
        "# 새로 생성된 모듈의 매개변수는 기본값이 requires_grad=True 임\n",
        "num_ftrs = model_conv.fc.in_features\n",
        "model_conv.fc = nn.Linear(num_ftrs, 2)\n",
        "\n",
        "model_conv = model_conv.to(device)\n",
        "\n",
        "criterion = nn.CrossEntropyLoss()\n",
        "\n",
        "# 이전과는 다르게 마지막 계층의 매개변수들만 최적화되는지 관찰\n",
        "optimizer_conv = optim.SGD(model_conv.fc.parameters(), lr=0.001, momentum=0.9)\n",
        "\n",
        "# 7 에폭마다 0.1씩 학습률 감소\n",
        "exp_lr_scheduler = lr_scheduler.StepLR(optimizer_conv, step_size=7, gamma=0.1)"
      ],
      "metadata": {
        "id": "ofDoDlFxhfEp"
      },
      "execution_count": null,
      "outputs": []
    },
    {
      "cell_type": "markdown",
      "source": [
        "마지막 계층을 제외한 신경망의 모든 부분을 고정\n",
        "requires_grad를 false로 설정하여 매개변수를 고정\n",
        "\n",
        "\n",
        "새로 생성된 모듈의 매개변수이외에는 값을 고정하고 사용\n"
      ],
      "metadata": {
        "id": "pOP0lbDh3U7C"
      }
    },
    {
      "cell_type": "code",
      "source": [
        "model_conv = train_model(model_conv, criterion, optimizer_conv,\n",
        "                         exp_lr_scheduler, num_epochs=25)"
      ],
      "metadata": {
        "colab": {
          "base_uri": "https://localhost:8080/"
        },
        "id": "8dg9v9eziMoB",
        "outputId": "2bd89353-a670-4616-8ed3-87b870b5dfdd"
      },
      "execution_count": null,
      "outputs": [
        {
          "output_type": "stream",
          "name": "stdout",
          "text": [
            "Epoch 0/24\n",
            "----------\n"
          ]
        },
        {
          "output_type": "stream",
          "name": "stderr",
          "text": [
            "/usr/local/lib/python3.7/dist-packages/torch/utils/data/dataloader.py:481: UserWarning: This DataLoader will create 4 worker processes in total. Our suggested max number of worker in current system is 2, which is smaller than what this DataLoader is going to create. Please be aware that excessive worker creation might get DataLoader running slow or even freeze, lower the worker number to avoid potential slowness/freeze if necessary.\n",
            "  cpuset_checked))\n"
          ]
        },
        {
          "output_type": "stream",
          "name": "stdout",
          "text": [
            "train Loss: 0.5332 Acc: 0.7336\n",
            "val Loss: 0.2524 Acc: 0.9150\n",
            "\n",
            "Epoch 1/24\n",
            "----------\n",
            "train Loss: 0.3577 Acc: 0.8279\n",
            "val Loss: 0.3059 Acc: 0.8627\n",
            "\n",
            "Epoch 2/24\n",
            "----------\n",
            "train Loss: 0.5382 Acc: 0.7869\n",
            "val Loss: 0.2198 Acc: 0.9216\n",
            "\n",
            "Epoch 3/24\n",
            "----------\n",
            "train Loss: 0.4889 Acc: 0.8279\n",
            "val Loss: 0.4792 Acc: 0.8366\n",
            "\n",
            "Epoch 4/24\n",
            "----------\n",
            "train Loss: 0.4984 Acc: 0.8033\n",
            "val Loss: 0.2068 Acc: 0.9477\n",
            "\n",
            "Epoch 5/24\n",
            "----------\n",
            "train Loss: 0.5638 Acc: 0.7828\n",
            "val Loss: 0.2117 Acc: 0.9281\n",
            "\n",
            "Epoch 6/24\n",
            "----------\n",
            "train Loss: 0.3713 Acc: 0.8443\n",
            "val Loss: 0.1880 Acc: 0.9346\n",
            "\n",
            "Epoch 7/24\n",
            "----------\n",
            "train Loss: 0.4229 Acc: 0.8156\n",
            "val Loss: 0.1632 Acc: 0.9477\n",
            "\n",
            "Epoch 8/24\n",
            "----------\n",
            "train Loss: 0.3530 Acc: 0.8607\n",
            "val Loss: 0.1668 Acc: 0.9477\n",
            "\n",
            "Epoch 9/24\n",
            "----------\n",
            "train Loss: 0.2812 Acc: 0.8689\n",
            "val Loss: 0.1521 Acc: 0.9477\n",
            "\n",
            "Epoch 10/24\n",
            "----------\n",
            "train Loss: 0.4241 Acc: 0.8197\n",
            "val Loss: 0.1851 Acc: 0.9477\n",
            "\n",
            "Epoch 11/24\n",
            "----------\n",
            "train Loss: 0.4062 Acc: 0.7828\n",
            "val Loss: 0.1797 Acc: 0.9477\n",
            "\n",
            "Epoch 12/24\n",
            "----------\n",
            "train Loss: 0.3708 Acc: 0.8279\n",
            "val Loss: 0.2041 Acc: 0.9412\n",
            "\n",
            "Epoch 13/24\n",
            "----------\n",
            "train Loss: 0.3229 Acc: 0.8484\n",
            "val Loss: 0.1816 Acc: 0.9477\n",
            "\n",
            "Epoch 14/24\n",
            "----------\n",
            "train Loss: 0.3328 Acc: 0.8402\n",
            "val Loss: 0.1651 Acc: 0.9477\n",
            "\n",
            "Epoch 15/24\n",
            "----------\n",
            "train Loss: 0.3484 Acc: 0.8279\n",
            "val Loss: 0.1693 Acc: 0.9477\n",
            "\n",
            "Epoch 16/24\n",
            "----------\n",
            "train Loss: 0.3555 Acc: 0.8484\n",
            "val Loss: 0.1684 Acc: 0.9477\n",
            "\n",
            "Epoch 17/24\n",
            "----------\n",
            "train Loss: 0.3712 Acc: 0.8361\n",
            "val Loss: 0.1645 Acc: 0.9412\n",
            "\n",
            "Epoch 18/24\n",
            "----------\n",
            "train Loss: 0.3326 Acc: 0.8648\n",
            "val Loss: 0.1872 Acc: 0.9412\n",
            "\n",
            "Epoch 19/24\n",
            "----------\n",
            "train Loss: 0.3156 Acc: 0.8648\n",
            "val Loss: 0.1718 Acc: 0.9477\n",
            "\n",
            "Epoch 20/24\n",
            "----------\n",
            "train Loss: 0.3555 Acc: 0.8279\n",
            "val Loss: 0.1777 Acc: 0.9477\n",
            "\n",
            "Epoch 21/24\n",
            "----------\n",
            "train Loss: 0.2850 Acc: 0.8770\n",
            "val Loss: 0.1672 Acc: 0.9477\n",
            "\n",
            "Epoch 22/24\n",
            "----------\n",
            "train Loss: 0.3421 Acc: 0.8484\n",
            "val Loss: 0.1813 Acc: 0.9412\n",
            "\n",
            "Epoch 23/24\n",
            "----------\n",
            "train Loss: 0.3242 Acc: 0.8443\n",
            "val Loss: 0.1767 Acc: 0.9477\n",
            "\n",
            "Epoch 24/24\n",
            "----------\n",
            "train Loss: 0.3050 Acc: 0.8607\n",
            "val Loss: 0.1706 Acc: 0.9412\n",
            "\n",
            "Training complete in 1m 54s\n",
            "Best val Acc: 0.947712\n"
          ]
        }
      ]
    },
    {
      "cell_type": "code",
      "source": [
        "visualize_model(model_conv)\n",
        "\n",
        "plt.ioff()\n",
        "plt.show()"
      ],
      "metadata": {
        "colab": {
          "base_uri": "https://localhost:8080/",
          "height": 638
        },
        "id": "BfAnFa3biVYU",
        "outputId": "1fe9b499-1b22-424a-f51b-1bcef6297b02"
      },
      "execution_count": null,
      "outputs": [
        {
          "output_type": "stream",
          "name": "stderr",
          "text": [
            "/usr/local/lib/python3.7/dist-packages/torch/utils/data/dataloader.py:481: UserWarning: This DataLoader will create 4 worker processes in total. Our suggested max number of worker in current system is 2, which is smaller than what this DataLoader is going to create. Please be aware that excessive worker creation might get DataLoader running slow or even freeze, lower the worker number to avoid potential slowness/freeze if necessary.\n",
            "  cpuset_checked))\n"
          ]
        },
        {
          "output_type": "display_data",
          "data": {
            "image/png": "[encoded data removed]",
            "text/plain": [
              "<Figure size 432x288 with 1 Axes>"
            ]
          },
          "metadata": {
            "needs_background": "light"
          }
        },
        {
          "output_type": "display_data",
          "data": {
            "image/png": "[encoded data removed]",
            "text/plain": [
              "<Figure size 432x288 with 1 Axes>"
            ]
          },
          "metadata": {
            "needs_background": "light"
          }
        },
        {
          "output_type": "display_data",
          "data": {
            "image/png": "[encoded data removed]",
            "text/plain": [
              "<Figure size 432x288 with 1 Axes>"
            ]
          },
          "metadata": {
            "needs_background": "light"
          }
        },
        {
          "output_type": "display_data",
          "data": {
            "image/png": "[encoded data removed]",
            "text/plain": [
              "<Figure size 432x288 with 1 Axes>"
            ]
          },
          "metadata": {
            "needs_background": "light"
          }
        },
        {
          "output_type": "display_data",
          "data": {
            "image/png": "[encoded data removed]",
            "text/plain": [
              "<Figure size 432x288 with 1 Axes>"
            ]
          },
          "metadata": {
            "needs_background": "light"
          }
        },
        {
          "output_type": "display_data",
          "data": {
            "image/png": "[encoded data removed]",
            "text/plain": [
              "<Figure size 432x288 with 1 Axes>"
            ]
          },
          "metadata": {
            "needs_background": "light"
          }
        }
      ]
    }
  ]
}